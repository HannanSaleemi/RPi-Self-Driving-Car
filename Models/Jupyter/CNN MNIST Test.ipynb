{
 "cells": [
  {
   "cell_type": "code",
   "execution_count": 1,
   "metadata": {},
   "outputs": [
    {
     "name": "stdout",
     "output_type": "stream",
     "text": [
      "Successfully downloaded train-images-idx3-ubyte.gz 9912422 bytes.\n",
      "Extracting /tmp/data/train-images-idx3-ubyte.gz\n",
      "Successfully downloaded train-labels-idx1-ubyte.gz 28881 bytes.\n",
      "Extracting /tmp/data/train-labels-idx1-ubyte.gz\n",
      "Successfully downloaded t10k-images-idx3-ubyte.gz 1648877 bytes.\n",
      "Extracting /tmp/data/t10k-images-idx3-ubyte.gz\n",
      "Successfully downloaded t10k-labels-idx1-ubyte.gz 4542 bytes.\n",
      "Extracting /tmp/data/t10k-labels-idx1-ubyte.gz\n"
     ]
    }
   ],
   "source": [
    "from __future__ import division, print_function, absolute_import\n",
    "import tensorflow as tf\n",
    "\n",
    "#Importing tensorflow MNIST dataset\n",
    "from tensorflow.examples.tutorials.mnist import input_data\n",
    "mnist = input_data.read_data_sets(\"/tmp/data\", one_hot=True)"
   ]
  },
  {
   "cell_type": "code",
   "execution_count": 2,
   "metadata": {
    "collapsed": true
   },
   "outputs": [],
   "source": [
    "#Training Parameters\n",
    "learning_rate = 0.001\n",
    "num_steps = 200 #How many total steps\n",
    "batch_size = 128 #How many batchs to send in each epoch\n",
    "display_step = 10 #How many steps to display training loss and accuracy data"
   ]
  },
  {
   "cell_type": "code",
   "execution_count": 3,
   "metadata": {
    "collapsed": true
   },
   "outputs": [],
   "source": [
    "#Network Parameters\n",
    "num_input = 784 #28x28 - data inpu size\n",
    "num_classes = 10 #0-9 10 digits\n",
    "#dropout = 0.75 #Dropout, probability to keep units"
   ]
  },
  {
   "cell_type": "code",
   "execution_count": 4,
   "metadata": {
    "collapsed": true
   },
   "outputs": [],
   "source": [
    "#tf Graph input variables\n",
    "#NONE - which is the first dimension, corresponding to the batch size, indicates it  can be any size\n",
    "X = tf.placeholder(tf.float32, [None, num_input]) #The inputs = the number of pixels in the image\n",
    "Y = tf.placeholder(tf.float32, [None, num_classes]) #The output = the number of classifications 0-9 digits\n",
    "#keep_prob = tf.placeholder(tf.float) #Dropout (keep probability)"
   ]
  },
  {
   "cell_type": "code",
   "execution_count": 9,
   "metadata": {
    "collapsed": true
   },
   "outputs": [],
   "source": [
    "def conv2d(x, W, b, strides=1):\n",
    "    #Conv2D Wrapper - allows for simplificty\n",
    "    x = tf.nn.conv2d(x, W, strides=[1, strides, strides, 1], padding='SAME')\n",
    "    '''\n",
    "    Padding 'SAME' -> the output tensor should have the same w and h values as input, replacing any lost w or h with \n",
    "    0's to preserve the original w and h\n",
    "    '''\n",
    "    x = tf.nn.bias_add(x, b)\n",
    "    return tf.nn.relu(x)\n",
    "\n",
    "def maxpool2d(x, k=2):\n",
    "    #MaxPooling Wrapper\n",
    "    return tf.nn.max_pool(x, ksize=[1, k, k, 1], strides=[1, k, k, 1], padding = 'SAME')"
   ]
  },
  {
   "cell_type": "code",
   "execution_count": 6,
   "metadata": {
    "collapsed": true
   },
   "outputs": [],
   "source": [
    "#Creating the actual model\n",
    "def conv_net(x, weights, biases):\n",
    "    # MNIST data is 1-D Vector of 784 features 28*28\n",
    "    # Reshape to match picture format [Height X Width X Channel]\n",
    "    # Tensor input become 4-D: [batch size, height, width, channel]\n",
    "    x = tf.reshape(x, shape=[-1, 28, 28, 1])\n",
    "    \n",
    "    #Convolution Layer\n",
    "    conv1 = conv2d(x, weights['wc1'], biases['bc1'])\n",
    "    #Max Pooling\n",
    "    conv1 = maxpool2d(conv1, k=2)\n",
    "    \n",
    "    #Convolution Layers\n",
    "    conv2 = conv2d(conv1, weights['wc2'], biases['bc2'])\n",
    "    #Max Pooling\n",
    "    conv2 = maxpool2d(conv2, k=2)\n",
    "    \n",
    "    #Fully Connected Layer\n",
    "    #Reshape conv2 output to fit fully connected layer input\n",
    "    fc1 = tf.reshape(conv2, [-1, weights['wd1'].get_shape().as_list()[0]])\n",
    "    fc1 = tf.add(tf.matmul(fc1, weights['wd1']), biases['bd1'])\n",
    "    fc1 = tf.nn.relu(fc1)\n",
    "    #Apply Dropout\n",
    "    #fc1 = tf.nn.dropout(fc1, dropout)\n",
    "    \n",
    "    #Output, class prediction\n",
    "    out = tf.add(tf.matmul(fc1, weights['out']), biases['out'])\n",
    "    \n",
    "    return out"
   ]
  },
  {
   "cell_type": "code",
   "execution_count": 7,
   "metadata": {
    "collapsed": true
   },
   "outputs": [],
   "source": [
    "weights = {\n",
    "    #5X5 Conv, 1 input, 32 outputs\n",
    "    'wc1': tf.Variable(tf.random_normal([5,5,1,32])),\n",
    "    #5X5 Conv, 32 inputs, 64 outputs\n",
    "    'wc2': tf.Variable(tf.random_normal([5, 5, 32, 64])),\n",
    "    # Fully Connected, 7*7*64 inputs, 1024 outputs\n",
    "    'wd1': tf.Variable(tf.random_normal([7*7*64, 1024])),\n",
    "    # 1024 inputs, 10 outputs (class prediction)\n",
    "    'out': tf.Variable(tf.random_normal([1024, num_classes]))\n",
    "}\n",
    "\n",
    "biases = {\n",
    "    'bc1': tf.Variable(tf.random_normal([32])),\n",
    "    'bc2': tf.Variable(tf.random_normal([64])),\n",
    "    'bd1': tf.Variable(tf.random_normal([1024])),\n",
    "    'out': tf.Variable(tf.random_normal([num_classes]))\n",
    "}"
   ]
  },
  {
   "cell_type": "code",
   "execution_count": 10,
   "metadata": {},
   "outputs": [],
   "source": [
    "#Constructing the model\n",
    "logits = conv_net(X, weights, biases)\n",
    "prediction = tf.nn.softmax(logits)"
   ]
  },
  {
   "cell_type": "code",
   "execution_count": 12,
   "metadata": {},
   "outputs": [],
   "source": [
    "#Define loss and optimizer\n",
    "loss_op = tf.reduce_mean(tf.nn.softmax_cross_entropy_with_logits(logits=logits, labels=Y))\n",
    "optimizer = tf.train.AdamOptimizer(learning_rate=learning_rate)\n",
    "train_op = optimizer.minimize(loss_op)"
   ]
  },
  {
   "cell_type": "code",
   "execution_count": 13,
   "metadata": {
    "collapsed": true
   },
   "outputs": [],
   "source": [
    "#Evaluate Model\n",
    "correct_pred = tf.equal(tf.argmax(prediction, 1), tf.argmax(Y, 1))\n",
    "accuracy = tf.reduce_mean(tf.cast(correct_pred, tf.float32))"
   ]
  },
  {
   "cell_type": "code",
   "execution_count": 14,
   "metadata": {
    "collapsed": true
   },
   "outputs": [],
   "source": [
    "#Initialize the variables\n",
    "init = tf.global_variables_initializer()"
   ]
  },
  {
   "cell_type": "code",
   "execution_count": 15,
   "metadata": {},
   "outputs": [
    {
     "name": "stdout",
     "output_type": "stream",
     "text": [
      "Step 1, Minibatch Loss = 65072.5469, Training Accuracy = 0.102\n",
      "Step 10, Minibatch Loss = 19200.9180, Training Accuracy = 0.312\n",
      "Step 20, Minibatch Loss = 10384.6016, Training Accuracy = 0.516\n",
      "Step 30, Minibatch Loss = 5301.3560, Training Accuracy = 0.656\n",
      "Step 40, Minibatch Loss = 4472.8853, Training Accuracy = 0.742\n",
      "Step 50, Minibatch Loss = 5123.1143, Training Accuracy = 0.781\n",
      "Step 60, Minibatch Loss = 3757.6907, Training Accuracy = 0.766\n",
      "Step 70, Minibatch Loss = 2646.5286, Training Accuracy = 0.828\n",
      "Step 80, Minibatch Loss = 1930.6824, Training Accuracy = 0.859\n",
      "Step 90, Minibatch Loss = 2560.7671, Training Accuracy = 0.836\n",
      "Step 100, Minibatch Loss = 2495.1118, Training Accuracy = 0.812\n",
      "Step 110, Minibatch Loss = 2385.8940, Training Accuracy = 0.859\n",
      "Step 120, Minibatch Loss = 1639.8282, Training Accuracy = 0.875\n",
      "Step 130, Minibatch Loss = 1550.7310, Training Accuracy = 0.859\n",
      "Step 140, Minibatch Loss = 1985.3110, Training Accuracy = 0.883\n",
      "Step 150, Minibatch Loss = 1752.7467, Training Accuracy = 0.906\n",
      "Step 160, Minibatch Loss = 3166.8167, Training Accuracy = 0.812\n",
      "Step 170, Minibatch Loss = 1426.5549, Training Accuracy = 0.898\n",
      "Step 180, Minibatch Loss = 1001.3809, Training Accuracy = 0.898\n",
      "Step 190, Minibatch Loss = 1038.0734, Training Accuracy = 0.898\n",
      "Step 200, Minibatch Loss = 1267.4109, Training Accuracy = 0.898\n",
      "Optimization Finished\n",
      "Testing Accuracy:  0.917969\n"
     ]
    }
   ],
   "source": [
    "#Start Training\n",
    "with tf.Session() as sess:\n",
    "    \n",
    "    #Run the initializer\n",
    "    sess.run(init)\n",
    "    \n",
    "    for step in range(1, num_steps+1):\n",
    "        batch_x, batch_y = mnist.train.next_batch(batch_size)\n",
    "        #Run optimization operation (backprop)\n",
    "        sess.run(train_op, feed_dict={X: batch_x, Y: batch_y})\n",
    "        if step % display_step == 0 or step == 1:\n",
    "            #Calculate batch loss and accuracy\n",
    "            loss, acc = sess.run([loss_op, accuracy], feed_dict={X: batch_x, Y: batch_y})\n",
    "            print(\"Step \" + str(step) + \", Minibatch Loss = \" + \"{:.4f}\".format(loss) + \", Training Accuracy = \" + \\\n",
    "                 \"{:.3f}\".format(acc))\n",
    "    \n",
    "    print(\"Optimization Finished\")\n",
    "    \n",
    "    #Calculate Accuracy in 256 MNIST test images\n",
    "    print(\"Testing Accuracy: \", \\\n",
    "         sess.run(accuracy, feed_dict={X: mnist.test.images[:256],\n",
    "                                      Y: mnist.test.labels[:256]}))"
   ]
  }
 ],
 "metadata": {
  "kernelspec": {
   "display_name": "Python 2",
   "language": "python",
   "name": "python2"
  },
  "language_info": {
   "codemirror_mode": {
    "name": "ipython",
    "version": 2
   },
   "file_extension": ".py",
   "mimetype": "text/x-python",
   "name": "python",
   "nbconvert_exporter": "python",
   "pygments_lexer": "ipython2",
   "version": "2.7.13"
  }
 },
 "nbformat": 4,
 "nbformat_minor": 2
}
