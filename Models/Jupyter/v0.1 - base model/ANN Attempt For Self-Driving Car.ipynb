{
 "cells": [
  {
   "cell_type": "markdown",
   "metadata": {},
   "source": [
    "# Attempt to building ANN for Self-Driving Car"
   ]
  },
  {
   "cell_type": "markdown",
   "metadata": {},
   "source": [
    "Plan Of Attack:\n",
    "    - Greyscale all images (144 x 176)\n",
    "    - Resize to 72x88 (MAYBE)\n",
    "    - Then flatten to 6336 (if 72x88 resize)\n",
    "    - Create Labels for them [forward, left, right] [1,0,0] or [0,1,0] or [0,0,1]\n",
    "    - Store flattened images and labels together - corresponsingly\n",
    "    - Use Tutotail of MNIST Multi-Layer Perceptron to create the ANN"
   ]
  },
  {
   "cell_type": "code",
   "execution_count": 1,
   "metadata": {
    "collapsed": true
   },
   "outputs": [],
   "source": [
    "#Machine Learning Library\n",
    "import tensorflow as tf\n",
    "import matplotlib.pyplot as plt\n",
    "#Mathematical and Array libaray\n",
    "import numpy as np\n",
    "#Image import library\n",
    "from scipy import misc\n",
    "#Image transformation library\n",
    "from skimage.transform import resize"
   ]
  },
  {
   "cell_type": "markdown",
   "metadata": {},
   "source": [
    "## Step 1 - Getting all of our images\n",
    "\n",
    "    - Import images\n",
    "    - Resize images\n",
    "    - Add images to the array"
   ]
  },
  {
   "cell_type": "code",
   "execution_count": 3,
   "metadata": {},
   "outputs": [],
   "source": [
    "import glob\n",
    "f_image_list = []\n",
    "img_count = 0\n",
    "path = 'C:/Users/Hannan Saleemi/Desktop/Self-Driving Car/cardataset/training_set/Forward/'\n",
    "for filename in glob.glob(path+'*.png'):\n",
    "    img_count += 1\n",
    "    image = misc.imread(path+'trainframe ('+str(img_count)+').png')\n",
    "    image_resized = resize(image, (72,88), mode='reflect')\n",
    "    f_image_list.append(image_resized)"
   ]
  },
  {
   "cell_type": "code",
   "execution_count": 4,
   "metadata": {},
   "outputs": [
    {
     "name": "stdout",
     "output_type": "stream",
     "text": [
      "(72, 88, 3)\n"
     ]
    }
   ],
   "source": [
    "# JUST TESTING: Images are resized to 72x88 and 3d RGB\n",
    "print(image_resized.shape)"
   ]
  },
  {
   "cell_type": "code",
   "execution_count": 5,
   "metadata": {},
   "outputs": [
    {
     "data": {
      "image/png": "[encoded data removed]",
      "text/plain": [
       "<matplotlib.figure.Figure at 0x1ffae3c79b0>"
      ]
     },
     "metadata": {},
     "output_type": "display_data"
    }
   ],
   "source": [
    "#Example of an image\n",
    "plt.imshow(image_resized, cmap='Greys')\n",
    "plt.show()"
   ]
  },
  {
   "cell_type": "markdown",
   "metadata": {},
   "source": [
    "## Step 2 - Converting the images to greyscale and storing them in a new array\n",
    "\n",
    "    - The greyscale function is created\n",
    "    - An empty array is initialised"
   ]
  },
  {
   "cell_type": "code",
   "execution_count": 6,
   "metadata": {
    "collapsed": true
   },
   "outputs": [],
   "source": [
    "# Lets try and convert ALL images to greyscale\n",
    "def weightedAverage(pixel):\n",
    "    return 0.299*pixel[0] + 0.587*pixel[1] + 0.114*pixel[2]\n",
    "\n",
    "# Init the empty array\n",
    "grey = np.zeros((3000, image_resized.shape[0], image_resized.shape[1]))       # Spots for 3000 72x88 images"
   ]
  },
  {
   "cell_type": "code",
   "execution_count": 8,
   "metadata": {},
   "outputs": [
    {
     "name": "stdout",
     "output_type": "stream",
     "text": [
      "Finished image 0\n",
      "Finished image 100\n",
      "Finished image 200\n",
      "Finished image 300\n",
      "Finished image 400\n",
      "Finished image 500\n",
      "Finished image 600\n",
      "Finished image 700\n",
      "Finished image 800\n",
      "Finished image 900\n",
      "Finished image 1000\n",
      "Finished image 1100\n",
      "Finished image 1200\n",
      "Finished image 1300\n",
      "Finished image 1400\n",
      "Finished image 1500\n",
      "Finished image 1600\n",
      "Finished image 1700\n",
      "Finished image 1800\n",
      "Finished image 1900\n",
      "Finished image 2000\n",
      "Finished image 2100\n",
      "Finished image 2200\n",
      "Finished image 2300\n",
      "Finished image 2400\n",
      "Finished image 2500\n",
      "Finished image 2600\n",
      "Finished image 2700\n",
      "Finished image 2800\n",
      "Finished image 2900\n"
     ]
    }
   ],
   "source": [
    "#Putting all the images through the conversion:\n",
    "for image_num in range(len(f_image_list)):\n",
    "    for rownum in range(len(f_image_list[image_num])):\n",
    "        for colnum in range(len(f_image_list[image_num][rownum])):\n",
    "            grey[image_num][rownum][colnum] = weightedAverage(f_image_list[image_num][rownum][colnum])\n",
    "    if image_num % 100 == 0:\n",
    "        print(\"Finished image\",(image_num))"
   ]
  },
  {
   "cell_type": "code",
   "execution_count": 9,
   "metadata": {},
   "outputs": [
    {
     "data": {
      "text/plain": [
       "(3000, 72, 88)"
      ]
     },
     "execution_count": 9,
     "metadata": {},
     "output_type": "execute_result"
    }
   ],
   "source": [
    "#Checking out the new shape of the array\n",
    "grey.shape"
   ]
  },
  {
   "cell_type": "code",
   "execution_count": 19,
   "metadata": {},
   "outputs": [
    {
     "data": {
      "image/png": "[encoded data removed]",
      "text/plain": [
       "<matplotlib.figure.Figure at 0x1ffae011e48>"
      ]
     },
     "metadata": {},
     "output_type": "display_data"
    }
   ],
   "source": [
    "# Plotting an image to check greyscale conversion\n",
    "plt.imshow(grey[300], cmap='Greys')\n",
    "plt.show()"
   ]
  },
  {
   "cell_type": "markdown",
   "metadata": {},
   "source": [
    "## Step 3 - Reshaping the array to be in the same format as the MNIST array\n",
    "    - format (3000, (72x88))"
   ]
  },
  {
   "cell_type": "code",
   "execution_count": 86,
   "metadata": {},
   "outputs": [],
   "source": [
    "f_images = grey.reshape(3000,6336)"
   ]
  },
  {
   "cell_type": "code",
   "execution_count": 87,
   "metadata": {},
   "outputs": [
    {
     "data": {
      "text/plain": [
       "(3000, 6336)"
      ]
     },
     "execution_count": 87,
     "metadata": {},
     "output_type": "execute_result"
    }
   ],
   "source": [
    "#Checking out the new shape of the array\n",
    "len(f_images)\n",
    "f_images.shape"
   ]
  },
  {
   "cell_type": "markdown",
   "metadata": {},
   "source": [
    "## Step 4 - Labelling the data\n",
    "\n",
    "    - Each data needs the corresponsing label - This is just a test - this data won't actually be used\n",
    "    - label format [forward,left,right]\n",
    "    - so for this set it's [1,0,0]\n",
    "    - shape=(rows,columns)"
   ]
  },
  {
   "cell_type": "code",
   "execution_count": 64,
   "metadata": {
    "collapsed": true
   },
   "outputs": [],
   "source": [
    "#Init the empty array of zeros - 3000 rows and 3 columns\n",
    "labels_y = np.zeros(shape=(3000,3))"
   ]
  },
  {
   "cell_type": "code",
   "execution_count": 66,
   "metadata": {},
   "outputs": [],
   "source": [
    "# Add the forward labels to all images [1,0,0]\n",
    "for i in range(3000):\n",
    "    labels_y[i][0] = float(1)"
   ]
  },
  {
   "cell_type": "code",
   "execution_count": 84,
   "metadata": {},
   "outputs": [
    {
     "name": "stdout",
     "output_type": "stream",
     "text": [
      "[[ 1.  0.  0.]\n",
      " [ 1.  0.  0.]\n",
      " [ 1.  0.  0.]\n",
      " ..., \n",
      " [ 1.  0.  0.]\n",
      " [ 1.  0.  0.]\n",
      " [ 1.  0.  0.]]\n",
      "3000\n"
     ]
    }
   ],
   "source": [
    "#Checking the labels\n",
    "print(labels_y)\n",
    "print(len(labels_y))"
   ]
  },
  {
   "cell_type": "markdown",
   "metadata": {},
   "source": [
    "## Step 5 - Nomalisation?\n",
    "\n",
    "### You ONLY need to normalise if the input image is in RGB - if it is in grey, it is already on a scale from 0 - 1\n",
    "\n",
    "In this case, no need to normalise"
   ]
  },
  {
   "cell_type": "markdown",
   "metadata": {},
   "source": [
    "## Step 6 - Random Shuffling of the data and labels test"
   ]
  },
  {
   "cell_type": "code",
   "execution_count": null,
   "metadata": {
    "collapsed": true
   },
   "outputs": [],
   "source": [
    "from sklearn.utils import shuffle\n",
    "import numpy as np\n",
    "x = np.array([1,2,3])\n",
    "t = np.array(['one','two','three'])\n",
    "x, t = shuffle(x, t, random_state=1000)"
   ]
  },
  {
   "cell_type": "code",
   "execution_count": 89,
   "metadata": {},
   "outputs": [
    {
     "data": {
      "text/plain": [
       "3000"
      ]
     },
     "execution_count": 89,
     "metadata": {},
     "output_type": "execute_result"
    }
   ],
   "source": [
    "f_images"
   ]
  },
  {
   "cell_type": "code",
   "execution_count": 91,
   "metadata": {},
   "outputs": [
    {
     "data": {
      "text/plain": [
       "3000"
      ]
     },
     "execution_count": 91,
     "metadata": {},
     "output_type": "execute_result"
    }
   ],
   "source": [
    "labels_y"
   ]
  },
  {
   "cell_type": "code",
   "execution_count": 111,
   "metadata": {},
   "outputs": [],
   "source": [
    "batchx = f_images[0:100]\n"
   ]
  },
  {
   "cell_type": "code",
   "execution_count": 112,
   "metadata": {},
   "outputs": [
    {
     "data": {
      "text/plain": [
       "100"
      ]
     },
     "execution_count": 112,
     "metadata": {},
     "output_type": "execute_result"
    }
   ],
   "source": [
    "len(batchx)"
   ]
  },
  {
   "cell_type": "code",
   "execution_count": 113,
   "metadata": {},
   "outputs": [
    {
     "data": {
      "text/plain": [
       "array([[ 0.08531569,  0.08270392,  0.08433529, ...,  0.27870588,\n",
       "         0.27692549,  0.26649216],\n",
       "       [ 0.08525098,  0.08377059,  0.08318431, ...,  0.28180588,\n",
       "         0.2746451 ,  0.26879216],\n",
       "       [ 0.08736078,  0.08475098,  0.08287451, ...,  0.27876078,\n",
       "         0.27933333,  0.26615882],\n",
       "       ..., \n",
       "       [ 0.08483529,  0.08276863,  0.08283137, ...,  0.2876902 ,\n",
       "         0.27854706,  0.27739412],\n",
       "       [ 0.08679608,  0.08368431,  0.08222353, ...,  0.28548039,\n",
       "         0.27866078,  0.27539804],\n",
       "       [ 0.08422745,  0.08418431,  0.08483529, ...,  0.28923333,\n",
       "         0.28110392,  0.27391961]])"
      ]
     },
     "execution_count": 113,
     "metadata": {},
     "output_type": "execute_result"
    }
   ],
   "source": [
    "batchx"
   ]
  },
  {
   "cell_type": "code",
   "execution_count": null,
   "metadata": {
    "collapsed": true
   },
   "outputs": [],
   "source": []
  }
 ],
 "metadata": {
  "anaconda-cloud": {},
  "celltoolbar": "Raw Cell Format",
  "kernelspec": {
   "display_name": "Python 3",
   "language": "python",
   "name": "python3"
  },
  "language_info": {
   "codemirror_mode": {
    "name": "ipython",
    "version": 3
   },
   "file_extension": ".py",
   "mimetype": "text/x-python",
   "name": "python",
   "nbconvert_exporter": "python",
   "pygments_lexer": "ipython3",
   "version": "3.6.2"
  }
 },
 "nbformat": 4,
 "nbformat_minor": 1
}
