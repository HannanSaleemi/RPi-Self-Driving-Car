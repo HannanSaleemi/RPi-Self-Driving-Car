{
 "cells": [
  {
   "cell_type": "markdown",
   "metadata": {},
   "source": [
    "# ANN Self-Driving Car Attempt 3\n",
    "\n",
    "UPDATES FROM LAST VERSION:\n",
    "    - The last version was incorrectly calculating the batch sizes.\n",
    "    - In this version we may also put the data-preprocessing code in a seperate class\n",
    "    - Everything else stays the same\n",
    "    \n",
    "OOP FOR COURSEWORK:\n",
    "    - Start off with taking all of the data-preprocessing steps and putting into seperate class\n",
    "    - Start with an class called Data-preprocessing with main code and methods\n",
    "    - Then have inhertied classes which adopt the methods and attributes but override the labeling\n",
    "        - The labeling overrides the superclass labelling methods to mark the correct labels\n",
    "\n",
    "INFO ABOUT MODEL:\n",
    "    - Import all images, left, right and forward\n",
    "    - Resize images to 18x22 (396 pixels)\n",
    "    - Convert images to greyscale and place in new array\n",
    "        - This step could be simplified by converting on the Pi, but this could slow down image recieving times\n",
    "    - Reshape the array to (3000, 396)\n",
    "    - Create labels for the images in parallel array form\n",
    "    - Merge all three image arrays\n",
    "    - Shuffle all three image and label array keeping the correct parallel structure\n",
    "    - Init all tensorflow variables\n",
    "    - Start interactive session\n",
    "    - Train\n",
    "    - Once trained and saved - you have your model!!!!"
   ]
  },
  {
   "cell_type": "code",
   "execution_count": 1,
   "metadata": {
    "collapsed": true
   },
   "outputs": [],
   "source": [
    "import tensorflow as tf                    #Machine Learning Library\n",
    "import matplotlib.pyplot as plt            #Display the images for verification\n",
    "import numpy as np                         #Mathematical and arrays library\n",
    "from scipy import misc                     #Image Importing module\n",
    "from skimage.transform import resize       #Resizing image module\n",
    "from sklearn.utils import shuffle          #Shuffle in random order module\n",
    "import glob                                #Iterating through all pictures library"
   ]
  },
  {
   "cell_type": "markdown",
   "metadata": {},
   "source": [
    "## Greyscale Conversion Method:"
   ]
  },
  {
   "cell_type": "code",
   "execution_count": 2,
   "metadata": {
    "collapsed": true
   },
   "outputs": [],
   "source": [
    "def weightedAverage(pixel):\n",
    "    return 0.299*pixel[0] + 0.587*pixel[1] + 0.114*pixel[2]"
   ]
  },
  {
   "cell_type": "markdown",
   "metadata": {},
   "source": [
    "## Forward Image Array - Data Preprocessing\n",
    "    - Load the path and init all variables that will be needed\n",
    "    - For each image in the path that contains the .png extension\n",
    "        - Resize the image to 18,22\n",
    "        - Store in the array"
   ]
  },
  {
   "cell_type": "code",
   "execution_count": 3,
   "metadata": {
    "collapsed": true
   },
   "outputs": [],
   "source": [
    "# LOADING IN...\n",
    "f_images = []\n",
    "img_count = 0\n",
    "path = \"/Volumes/TRANSCEND/SDC/Jupyter Notebook Examples/cardataset/training_set/Forward/\"\n",
    "for filename in glob.glob(path+'*.png'):\n",
    "    img_count += 1\n",
    "    image = misc.imread(path+'trainframe ('+str(img_count)+').png')\n",
    "    image_resized = resize(image, (18,22), mode='reflect')\n",
    "    f_images.append(image_resized)"
   ]
  },
  {
   "cell_type": "markdown",
   "metadata": {},
   "source": [
    "### Greyscale Conversion:\n",
    "    - Init a empty numpy array of dimensions 3000, 18, 22\n",
    "    - Convert each pixel to greyscale\n",
    "        - OpenCV may be better at doing this - when in production, use OpenCV"
   ]
  },
  {
   "cell_type": "code",
   "execution_count": 5,
   "metadata": {},
   "outputs": [
    {
     "name": "stdout",
     "output_type": "stream",
     "text": [
      "('Finished converting image #', 0)\n",
      "('Finished converting image #', 100)\n",
      "('Finished converting image #', 200)\n",
      "('Finished converting image #', 300)\n",
      "('Finished converting image #', 400)\n",
      "('Finished converting image #', 500)\n",
      "('Finished converting image #', 600)\n",
      "('Finished converting image #', 700)\n",
      "('Finished converting image #', 800)\n",
      "('Finished converting image #', 900)\n",
      "('Finished converting image #', 1000)\n",
      "('Finished converting image #', 1100)\n",
      "('Finished converting image #', 1200)\n",
      "('Finished converting image #', 1300)\n",
      "('Finished converting image #', 1400)\n",
      "('Finished converting image #', 1500)\n",
      "('Finished converting image #', 1600)\n",
      "('Finished converting image #', 1700)\n",
      "('Finished converting image #', 1800)\n",
      "('Finished converting image #', 1900)\n",
      "('Finished converting image #', 2000)\n",
      "('Finished converting image #', 2100)\n",
      "('Finished converting image #', 2200)\n",
      "('Finished converting image #', 2300)\n",
      "('Finished converting image #', 2400)\n",
      "('Finished converting image #', 2500)\n",
      "('Finished converting image #', 2600)\n",
      "('Finished converting image #', 2700)\n",
      "('Finished converting image #', 2800)\n",
      "('Finished converting image #', 2900)\n"
     ]
    }
   ],
   "source": [
    "# GREYSCALE CONVERSION...\n",
    "f_grey = np.zeros((3000, image_resized.shape[0], image_resized.shape[1]))\n",
    "\n",
    "for image_num in range(len(f_images)):\n",
    "    for rownum in range(len(f_images[image_num])):\n",
    "        for colnum in range(len(f_images[image_num][rownum])):\n",
    "            f_grey[image_num][rownum][colnum] = weightedAverage(f_images[image_num][rownum][colnum])\n",
    "    #Output Logging\n",
    "    if image_num % 100 == 0:\n",
    "        print(\"Finished converting image #\", (image_num))"
   ]
  },
  {
   "cell_type": "code",
   "execution_count": 8,
   "metadata": {},
   "outputs": [
    {
     "data": {
      "text/plain": [
       "(3000, 18, 22)"
      ]
     },
     "execution_count": 8,
     "metadata": {},
     "output_type": "execute_result"
    }
   ],
   "source": [
    "# MAKEING SURE THE SHAPE IS CORRECT\n",
    "f_grey.shape"
   ]
  },
  {
   "cell_type": "markdown",
   "metadata": {},
   "source": [
    "### Reshape the greyscale images array and flatten the images to 396 pixels"
   ]
  },
  {
   "cell_type": "code",
   "execution_count": 9,
   "metadata": {
    "collapsed": true
   },
   "outputs": [],
   "source": [
    "f_images = f_grey.reshape(3000, 396)"
   ]
  },
  {
   "cell_type": "code",
   "execution_count": 11,
   "metadata": {},
   "outputs": [
    {
     "data": {
      "text/plain": [
       "(3000, 396)"
      ]
     },
     "execution_count": 11,
     "metadata": {},
     "output_type": "execute_result"
    }
   ],
   "source": [
    "# MAKEING SURE THE SHAPE CONVERSION WORKED CORRECTLY\n",
    "f_images.shape"
   ]
  },
  {
   "cell_type": "markdown",
   "metadata": {},
   "source": [
    "### Create the matching labels for the images\n",
    "     - Init empty numpy array of 3000 by 3\n",
    "     - Set the forward labels"
   ]
  },
  {
   "cell_type": "code",
   "execution_count": 12,
   "metadata": {
    "collapsed": true
   },
   "outputs": [],
   "source": [
    "# LABELS ARRAY\n",
    "#Creating Labels\n",
    "f_labels = np.zeros(shape=(3000,3))\n",
    "\n",
    "#Adding 3000 forward labels [1,0,0]\n",
    "for i in range(3000):\n",
    "    f_labels[i][0] = float(1)"
   ]
  },
  {
   "cell_type": "code",
   "execution_count": 13,
   "metadata": {},
   "outputs": [
    {
     "data": {
      "text/plain": [
       "array([[ 1.,  0.,  0.],\n",
       "       [ 1.,  0.,  0.],\n",
       "       [ 1.,  0.,  0.],\n",
       "       ..., \n",
       "       [ 1.,  0.,  0.],\n",
       "       [ 1.,  0.,  0.],\n",
       "       [ 1.,  0.,  0.]])"
      ]
     },
     "execution_count": 13,
     "metadata": {},
     "output_type": "execute_result"
    }
   ],
   "source": [
    "# CHECK OUT THE NEW LABELS\n",
    "f_labels"
   ]
  },
  {
   "cell_type": "markdown",
   "metadata": {},
   "source": [
    "### Shuffling time\n",
    "    - First check the images\n",
    "    - Shuffle\n",
    "    - Recheck array to see if they have changed up"
   ]
  },
  {
   "cell_type": "code",
   "execution_count": 14,
   "metadata": {},
   "outputs": [
    {
     "data": {
      "text/plain": [
       "array([[ 0.08285294,  0.08651373,  0.09729804, ...,  0.13449118,\n",
       "         0.30126471,  0.28148725],\n",
       "       [ 0.08309314,  0.08551176,  0.09758039, ...,  0.13474118,\n",
       "         0.29687941,  0.2837451 ],\n",
       "       [ 0.08174608,  0.08674314,  0.09856078, ...,  0.13454314,\n",
       "         0.30154216,  0.2834098 ],\n",
       "       ..., \n",
       "       [ 0.20243039,  0.14286569,  0.24856961, ...,  0.59031667,\n",
       "         0.58096275,  0.81084804],\n",
       "       [ 0.21131373,  0.14252843,  0.27131275, ...,  0.5731598 ,\n",
       "         0.5833549 ,  0.82438824],\n",
       "       [ 0.1865    ,  0.12876176,  0.25608725, ...,  0.56199118,\n",
       "         0.58603725,  0.85044412]])"
      ]
     },
     "execution_count": 14,
     "metadata": {},
     "output_type": "execute_result"
    }
   ],
   "source": [
    "# CHECK THE ARRAY\n",
    "f_images"
   ]
  },
  {
   "cell_type": "code",
   "execution_count": 15,
   "metadata": {
    "collapsed": true
   },
   "outputs": [],
   "source": [
    "# SHUFFLE THEM\n",
    "f_images, f_labels = shuffle(f_images, f_labels, random_state = 4000)"
   ]
  },
  {
   "cell_type": "code",
   "execution_count": 16,
   "metadata": {},
   "outputs": [
    {
     "data": {
      "text/plain": [
       "array([[ 0.20488431,  0.31913235,  0.40438627, ...,  0.93290392,\n",
       "         0.91115392,  0.90059118],\n",
       "       [ 0.16452059,  0.23098333,  0.24517451, ...,  0.45037843,\n",
       "         0.64341667,  0.86788725],\n",
       "       [ 0.52245294,  0.53974706,  0.56372451, ...,  0.88922059,\n",
       "         0.87743824,  0.86189804],\n",
       "       ..., \n",
       "       [ 0.12021863,  0.10482941,  0.12077941, ...,  0.52446667,\n",
       "         0.47657353,  0.7271    ],\n",
       "       [ 0.55091176,  0.57213137,  0.62195784, ...,  0.89393235,\n",
       "         0.88511961,  0.87136176],\n",
       "       [ 0.06414314,  0.05195686,  0.09219804, ...,  0.61300686,\n",
       "         0.5555402 ,  0.49911863]])"
      ]
     },
     "execution_count": 16,
     "metadata": {},
     "output_type": "execute_result"
    }
   ],
   "source": [
    "# CHECK AGAIN... - if they are different they will look different to the first time we checked\n",
    "f_images"
   ]
  },
  {
   "cell_type": "markdown",
   "metadata": {},
   "source": [
    "## Left Image Array - Data Preprocessing\n",
    "    - Load the path and init all variables that will be needed\n",
    "    - For each image in the path that contains the .png extension\n",
    "        - Resize the image to 18,22\n",
    "        - Store in the array"
   ]
  },
  {
   "cell_type": "code",
   "execution_count": 17,
   "metadata": {
    "collapsed": true
   },
   "outputs": [],
   "source": [
    "# LOADING IN...\n",
    "l_images = []\n",
    "img_count = 0\n",
    "path = \"/Volumes/TRANSCEND/SDC/Jupyter Notebook Examples/cardataset/training_set/Left/\"\n",
    "for filename in glob.glob(path+'*.png'):\n",
    "    img_count += 1\n",
    "    image = misc.imread(path+'trainframe ('+str(img_count)+').png')\n",
    "    image_resized = resize(image, (18,22), mode='reflect')\n",
    "    l_images.append(image_resized)"
   ]
  },
  {
   "cell_type": "markdown",
   "metadata": {},
   "source": [
    "### Greyscale Conversion:\n",
    "    - Init a empty numpy array of dimensions 3000, 18, 22\n",
    "    - Convert each pixel to greyscale\n",
    "        - OpenCV may be better at doing this - when in production, use OpenCV"
   ]
  },
  {
   "cell_type": "code",
   "execution_count": 18,
   "metadata": {},
   "outputs": [
    {
     "name": "stdout",
     "output_type": "stream",
     "text": [
      "('Finished converting image #', 0)\n",
      "('Finished converting image #', 100)\n",
      "('Finished converting image #', 200)\n",
      "('Finished converting image #', 300)\n",
      "('Finished converting image #', 400)\n",
      "('Finished converting image #', 500)\n",
      "('Finished converting image #', 600)\n",
      "('Finished converting image #', 700)\n",
      "('Finished converting image #', 800)\n",
      "('Finished converting image #', 900)\n",
      "('Finished converting image #', 1000)\n",
      "('Finished converting image #', 1100)\n",
      "('Finished converting image #', 1200)\n",
      "('Finished converting image #', 1300)\n",
      "('Finished converting image #', 1400)\n",
      "('Finished converting image #', 1500)\n",
      "('Finished converting image #', 1600)\n",
      "('Finished converting image #', 1700)\n",
      "('Finished converting image #', 1800)\n",
      "('Finished converting image #', 1900)\n",
      "('Finished converting image #', 2000)\n",
      "('Finished converting image #', 2100)\n",
      "('Finished converting image #', 2200)\n",
      "('Finished converting image #', 2300)\n",
      "('Finished converting image #', 2400)\n",
      "('Finished converting image #', 2500)\n",
      "('Finished converting image #', 2600)\n",
      "('Finished converting image #', 2700)\n",
      "('Finished converting image #', 2800)\n",
      "('Finished converting image #', 2900)\n"
     ]
    }
   ],
   "source": [
    "# GREYSCALE CONVERSION...\n",
    "l_grey = np.zeros((3000, image_resized.shape[0], image_resized.shape[1]))\n",
    "\n",
    "for image_num in range(len(l_images)):\n",
    "    for rownum in range(len(l_images[image_num])):\n",
    "        for colnum in range(len(l_images[image_num][rownum])):\n",
    "            l_grey[image_num][rownum][colnum] = weightedAverage(l_images[image_num][rownum][colnum])\n",
    "    #Output Logging\n",
    "    if image_num % 100 == 0:\n",
    "        print(\"Finished converting image #\", (image_num))"
   ]
  },
  {
   "cell_type": "code",
   "execution_count": 19,
   "metadata": {},
   "outputs": [
    {
     "data": {
      "text/plain": [
       "(3000, 18, 22)"
      ]
     },
     "execution_count": 19,
     "metadata": {},
     "output_type": "execute_result"
    }
   ],
   "source": [
    "# MAKEING SURE THE SHAPE IS CORRECT\n",
    "l_grey.shape"
   ]
  },
  {
   "cell_type": "markdown",
   "metadata": {},
   "source": [
    "### Reshape the greyscale images array and flatten the images to 396 pixels"
   ]
  },
  {
   "cell_type": "code",
   "execution_count": 22,
   "metadata": {
    "collapsed": true
   },
   "outputs": [],
   "source": [
    "l_images = l_grey.reshape(3000, 396)"
   ]
  },
  {
   "cell_type": "code",
   "execution_count": 23,
   "metadata": {},
   "outputs": [
    {
     "data": {
      "text/plain": [
       "(3000, 396)"
      ]
     },
     "execution_count": 23,
     "metadata": {},
     "output_type": "execute_result"
    }
   ],
   "source": [
    "# MAKEING SURE THE SHAPE CONVERSION WORKED CORRECTLY\n",
    "l_images.shape"
   ]
  },
  {
   "cell_type": "markdown",
   "metadata": {},
   "source": [
    "### Create the matching labels for the images\n",
    "     - Init empty numpy array of 3000 by 3\n",
    "     - Set the left labels"
   ]
  },
  {
   "cell_type": "code",
   "execution_count": null,
   "metadata": {
    "collapsed": true
   },
   "outputs": [],
   "source": [
    "# LABELS ARRAY\n",
    "#Creating Labels\n",
    "l_labels = np.zeros(shape=(3000,3))\n",
    "\n",
    "#Adding 3000 forward labels [1,0,0]\n",
    "for i in range(3000):\n",
    "    l_labels[i][1] = float(1)"
   ]
  },
  {
   "cell_type": "code",
   "execution_count": null,
   "metadata": {
    "collapsed": true
   },
   "outputs": [],
   "source": [
    "# CHECK OUT THE NEW LABELS\n",
    "l_labels"
   ]
  },
  {
   "cell_type": "markdown",
   "metadata": {},
   "source": [
    "### Shuffling time\n",
    "    - First check the images\n",
    "    - Shuffle\n",
    "    - Recheck array to see if they have changed up"
   ]
  },
  {
   "cell_type": "code",
   "execution_count": null,
   "metadata": {
    "collapsed": true
   },
   "outputs": [],
   "source": [
    "# CHECK THE ARRAY\n",
    "l_images"
   ]
  },
  {
   "cell_type": "code",
   "execution_count": null,
   "metadata": {
    "collapsed": true
   },
   "outputs": [],
   "source": [
    "# SHUFFLE THEM\n",
    "l_images, l_labels = shuffle(l_images, l_labels, random_state = 4000)"
   ]
  },
  {
   "cell_type": "code",
   "execution_count": null,
   "metadata": {
    "collapsed": true
   },
   "outputs": [],
   "source": [
    "# CHECK AGAIN... - if they are different they will look different to the first time we checked\n",
    "l_images"
   ]
  },
  {
   "cell_type": "markdown",
   "metadata": {},
   "source": [
    "## Right Image Array - Data Preprocessing\n",
    "    - Load the path and init all variables that will be needed\n",
    "    - For each image in the path that contains the .png extension\n",
    "        - Resize the image to 18,22\n",
    "        - Store in the array"
   ]
  },
  {
   "cell_type": "code",
   "execution_count": null,
   "metadata": {
    "collapsed": true
   },
   "outputs": [],
   "source": [
    "# LOADING IN...\n",
    "r_images = []\n",
    "img_count = 0\n",
    "path = \"/Volumes/TRANSCEND/SDC/Jupyter Notebook Examples/cardataset/training_set/Right/\"\n",
    "for filename in glob.glob(path+'*.png'):\n",
    "    img_count += 1\n",
    "    image = misc.imread(path+'trainframe ('+str(img_count)+').png')\n",
    "    image_resized = resize(image, (18,22), mode='reflect')\n",
    "    r_images.append(image_resized)"
   ]
  },
  {
   "cell_type": "markdown",
   "metadata": {},
   "source": [
    "### Greyscale Conversion:\n",
    "    - Init a empty numpy array of dimensions 3000, 18, 22\n",
    "    - Convert each pixel to greyscale\n",
    "        - OpenCV may be better at doing this - when in production, use OpenCV"
   ]
  },
  {
   "cell_type": "code",
   "execution_count": null,
   "metadata": {
    "collapsed": true
   },
   "outputs": [],
   "source": [
    "# GREYSCALE CONVERSION...\n",
    "r_grey = np.zeros((3000, image_resized.shape[0], image_resized.shape[1]))\n",
    "\n",
    "for image_num in range(len(r_images)):\n",
    "    for rownum in range(len(r_images[image_num])):\n",
    "        for colnum in range(len(r_images[image_num][rownum])):\n",
    "            r_grey[image_num][rownum][colnum] = weightedAverage(r_images[image_num][rownum][colnum])\n",
    "    #Output Logging\n",
    "    if image_num % 100 == 0:\n",
    "        print(\"Finished converting image #\", (image_num))"
   ]
  },
  {
   "cell_type": "code",
   "execution_count": null,
   "metadata": {
    "collapsed": true
   },
   "outputs": [],
   "source": [
    "# MAKEING SURE THE SHAPE IS CORRECT\n",
    "r_grey.shape"
   ]
  },
  {
   "cell_type": "markdown",
   "metadata": {},
   "source": [
    "### Reshape the greyscale images array and flatten the images to 396 pixels"
   ]
  },
  {
   "cell_type": "code",
   "execution_count": null,
   "metadata": {
    "collapsed": true
   },
   "outputs": [],
   "source": [
    "r_images = r_grey.reshape(3000, 396)"
   ]
  },
  {
   "cell_type": "code",
   "execution_count": null,
   "metadata": {
    "collapsed": true
   },
   "outputs": [],
   "source": [
    "# MAKEING SURE THE SHAPE CONVERSION WORKED CORRECTLY\n",
    "r_images.shape"
   ]
  },
  {
   "cell_type": "markdown",
   "metadata": {},
   "source": [
    "### Create the matching labels for the images\n",
    "     - Init empty numpy array of 3000 by 3\n",
    "     - Set the left labels"
   ]
  },
  {
   "cell_type": "code",
   "execution_count": null,
   "metadata": {
    "collapsed": true
   },
   "outputs": [],
   "source": [
    "# LABELS ARRAY\n",
    "#Creating Labels\n",
    "r_labels = np.zeros(shape=(3000,3))\n",
    "\n",
    "#Adding 3000 forward labels [1,0,0]\n",
    "for i in range(3000):\n",
    "    r_labels[i][1] = float(1)"
   ]
  },
  {
   "cell_type": "code",
   "execution_count": null,
   "metadata": {
    "collapsed": true
   },
   "outputs": [],
   "source": [
    "# CHECK OUT THE NEW LABELS\n",
    "r_labels"
   ]
  },
  {
   "cell_type": "markdown",
   "metadata": {},
   "source": [
    "### Shuffling time\n",
    "    - First check the images\n",
    "    - Shuffle\n",
    "    - Recheck array to see if they have changed up"
   ]
  },
  {
   "cell_type": "code",
   "execution_count": null,
   "metadata": {
    "collapsed": true
   },
   "outputs": [],
   "source": [
    "# CHECK THE ARRAY\n",
    "r_images"
   ]
  },
  {
   "cell_type": "code",
   "execution_count": null,
   "metadata": {
    "collapsed": true
   },
   "outputs": [],
   "source": [
    "# SHUFFLE THEM\n",
    "r_images, r_labels = shuffle(r_images, r_labels, random_state = 4000)"
   ]
  },
  {
   "cell_type": "code",
   "execution_count": null,
   "metadata": {
    "collapsed": true
   },
   "outputs": [],
   "source": [
    "# CHECK AGAIN... - if they are different they will look different to the first time we checked\n",
    "r_images"
   ]
  },
  {
   "cell_type": "markdown",
   "metadata": {},
   "source": [
    "## Merging and Shuffling All Arrays to create the dataset"
   ]
  },
  {
   "cell_type": "code",
   "execution_count": null,
   "metadata": {
    "collapsed": true
   },
   "outputs": [],
   "source": []
  }
 ],
 "metadata": {
  "kernelspec": {
   "display_name": "Python 2",
   "language": "python",
   "name": "python2"
  },
  "language_info": {
   "codemirror_mode": {
    "name": "ipython",
    "version": 2
   },
   "file_extension": ".py",
   "mimetype": "text/x-python",
   "name": "python",
   "nbconvert_exporter": "python",
   "pygments_lexer": "ipython2",
   "version": "2.7.13"
  }
 },
 "nbformat": 4,
 "nbformat_minor": 2
}
