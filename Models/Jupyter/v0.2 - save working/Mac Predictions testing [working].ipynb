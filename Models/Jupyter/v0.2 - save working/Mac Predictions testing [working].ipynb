{
 "cells": [
  {
   "cell_type": "code",
   "execution_count": 1,
   "metadata": {},
   "outputs": [],
   "source": [
    "import tensorflow as tf                    #Machine Learning Library\n",
    "import matplotlib.pyplot as plt            #Display the images for verification\n",
    "import numpy as np                         #Mathematical and arrays library\n",
    "from scipy import misc                     #Image Importing module\n",
    "from skimage.transform import resize       #Resizing image module\n",
    "from sklearn.utils import shuffle          #Shuffle in random order module\n",
    "import glob                                #Iterating through all pictures library"
   ]
  },
  {
   "cell_type": "code",
   "execution_count": 2,
   "metadata": {
    "collapsed": true
   },
   "outputs": [],
   "source": [
    "#learning_rate = 0.001\n",
    "learning_rate = 0.000001\n",
    "#training_epochs = 15\n",
    "training_epochs = 9\n",
    "batch_size = 5\n",
    "n_classes = 3\n",
    "#n_samples = 9000\n",
    "n_samples = 1000\n",
    "n_input = 396\n",
    "n_hidden_1 = 256\n",
    "n_hidden_2 = 256\n",
    "\n",
    "def multilayer_perceptron(x, weights,biases):\n",
    "    '''\n",
    "    x: Placeholder for Data Input\n",
    "    weights: Dict of weights\n",
    "    biases: dict of bias values\n",
    "    '''\n",
    "    \n",
    "    ### First Hidden Layer with RELU Activation Function\n",
    "    # X * W + B\n",
    "    layer_1 = tf.add(tf.matmul(x,weights['h1']),biases['b1'])\n",
    "    # RELU(X * W + B) -> f(x) = max(0,x)\n",
    "    layer_1 = tf.nn.relu(layer_1)\n",
    "    \n",
    "    ### Second Hidden Layer\n",
    "    # X * W + B\n",
    "    layer_2 = tf.add(tf.matmul(layer_1,weights['h2']),biases['b2'])\n",
    "    # RELU(X * W + B) -> f(x) = max(0,x)\n",
    "    layer_2 = tf.nn.relu(layer_2)\n",
    "    \n",
    "    ### Last Output Layer\n",
    "    out_layer = tf.matmul(layer_2,weights['out']) + biases['out']\n",
    "    \n",
    "    return out_layer\n",
    "\n",
    "#Creating the weights dictionary\n",
    "'''\n",
    "    h1 - martix of randomly assigned values from a normal distribution. rows=784, columns=256\n",
    "    h2 - martix of randomly assigned values from a normal distribution. rows=256, columns=256\n",
    "    out - matric of randomly assigned values from a normal distribution. rows=256, columns=10\n",
    "'''\n",
    "weights = {\n",
    "    'h1':tf.Variable(tf.random_normal([n_input, n_hidden_1])),\n",
    "    'h2':tf.Variable(tf.random_normal([n_hidden_1, n_hidden_2])),\n",
    "    'out':tf.Variable(tf.random_normal([n_hidden_2,n_classes]))\n",
    "}\n",
    "\n",
    "biases = {\n",
    "    'b1':tf.Variable(tf.random_normal([n_hidden_1])),\n",
    "    'b2':tf.Variable(tf.random_normal([n_hidden_2])),\n",
    "    'out':tf.Variable(tf.random_normal([n_classes])) \n",
    "}\n",
    "\n",
    "x = tf.placeholder('float', [None, 396])\n",
    "y = tf.placeholder('float',[None,10])\n",
    "\n",
    "pred = multilayer_perceptron(x,weights,biases)\n",
    "\n",
    "cost = tf.reduce_mean(tf.nn.softmax_cross_entropy_with_logits(logits=pred,labels=y))\n",
    "optimizer = tf.train.AdamOptimizer(learning_rate=learning_rate).minimize(cost)\n",
    "\n",
    "def weightedAverage(pixel):\n",
    "    return 0.299*pixel[0] + 0.587*pixel[1] + 0.114*pixel[2]"
   ]
  },
  {
   "cell_type": "code",
   "execution_count": 3,
   "metadata": {},
   "outputs": [
    {
     "name": "stdout",
     "output_type": "stream",
     "text": [
      "(144, 176)\n",
      "(18, 22)\n"
     ]
    },
    {
     "data": {
      "image/png": "[encoded data removed]",
      "text/plain": [
       "<matplotlib.figure.Figure at 0x1c184a7c10>"
      ]
     },
     "metadata": {},
     "output_type": "display_data"
    }
   ],
   "source": [
    "init = tf.global_variables_initializer()\n",
    "image = misc.imread('/Users/hannansaleemi/greyforward.png')\n",
    "print(image.shape)\n",
    "newimg = resize(image, (18,22), mode='reflect')\n",
    "\n",
    "print(newimg.shape)\n",
    "            \n",
    "plt.imshow(newimg, cmap='Greys')\n",
    "plt.show()\n",
    "\n",
    "newimg = newimg.reshape(1,396)\n",
    "\n",
    "\n",
    "#draw_img = newimg.reshape(1,396)\n",
    "#2 = right\n",
    "#1 = left\n",
    "#0 = forward"
   ]
  },
  {
   "cell_type": "code",
   "execution_count": 4,
   "metadata": {},
   "outputs": [
    {
     "name": "stdout",
     "output_type": "stream",
     "text": [
      "INFO:tensorflow:Restoring parameters from /Users/hannansaleemi/model.ckpt\n",
      "Model Restored\n"
     ]
    }
   ],
   "source": [
    "with tf.Session() as sess:\n",
    "    sess.run(init)\n",
    "    saver = tf.train.Saver()\n",
    "    saver.restore(sess, \"/Users/hannansaleemi/model.ckpt\")\n",
    "    print(\"Model Restored\")\n",
    "    result = sess.run(tf.argmax(pred, 1), feed_dict={x: newimg})"
   ]
  },
  {
   "cell_type": "code",
   "execution_count": 5,
   "metadata": {},
   "outputs": [
    {
     "data": {
      "text/plain": [
       "array([0])"
      ]
     },
     "execution_count": 5,
     "metadata": {},
     "output_type": "execute_result"
    }
   ],
   "source": [
    "result #0 - forward     1 - left     2 - right"
   ]
  },
  {
   "cell_type": "code",
   "execution_count": null,
   "metadata": {
    "collapsed": true
   },
   "outputs": [],
   "source": []
  }
 ],
 "metadata": {
  "kernelspec": {
   "display_name": "Python 2",
   "language": "python",
   "name": "python2"
  },
  "language_info": {
   "codemirror_mode": {
    "name": "ipython",
    "version": 2
   },
   "file_extension": ".py",
   "mimetype": "text/x-python",
   "name": "python",
   "nbconvert_exporter": "python",
   "pygments_lexer": "ipython2",
   "version": "2.7.13"
  }
 },
 "nbformat": 4,
 "nbformat_minor": 2
}
